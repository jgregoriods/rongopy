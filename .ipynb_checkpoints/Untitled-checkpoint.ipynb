{
 "cells": [
  {
   "cell_type": "code",
   "execution_count": 1,
   "id": "09cf49a8-4dac-4c31-b5e0-beeb85837ff9",
   "metadata": {},
   "outputs": [],
   "source": [
    "from data_loader import load_data"
   ]
  },
  {
   "cell_type": "code",
   "execution_count": 2,
   "id": "eec7f899-ca13-4426-a627-b23955254d20",
   "metadata": {},
   "outputs": [],
   "source": [
    "from models.glyph_model import GlyphModel"
   ]
  },
  {
   "cell_type": "code",
   "execution_count": 3,
   "id": "a75ce507-b7e2-4fc9-b925-4f9ecaceb3c6",
   "metadata": {},
   "outputs": [],
   "source": [
    "tablets = load_data(\"./tablets/tablets_clean.json\")"
   ]
  },
  {
   "cell_type": "code",
   "execution_count": 4,
   "id": "6298793a-0f66-449c-8c5f-c8658ec59810",
   "metadata": {},
   "outputs": [],
   "source": [
    "gm = GlyphModel(tablets)"
   ]
  },
  {
   "cell_type": "code",
   "execution_count": 5,
   "id": "14422286-eee4-4a95-8aca-3f02ba3e1e37",
   "metadata": {},
   "outputs": [],
   "source": [
    "X_train, y_train, X_test, y_test = gm.make_training_data(0.3)"
   ]
  },
  {
   "cell_type": "code",
   "execution_count": 8,
   "id": "66372a36-3cab-44eb-9026-9a66446ba81b",
   "metadata": {},
   "outputs": [],
   "source": [
    "gm.build(32, 64, 0.2)"
   ]
  },
  {
   "cell_type": "code",
   "execution_count": 13,
   "id": "5d3fe9ed-28d5-4da3-8133-21c49bc491da",
   "metadata": {},
   "outputs": [
    {
     "name": "stdout",
     "output_type": "stream",
     "text": [
      "Epoch 1/10\n",
      "23/23 [==============================] - 0s 10ms/step - loss: 4.8019 - accuracy: 0.0747 - val_loss: 5.1168 - val_accuracy: 0.0650\n",
      "Epoch 2/10\n",
      "23/23 [==============================] - 0s 9ms/step - loss: 4.7890 - accuracy: 0.0739 - val_loss: 5.1165 - val_accuracy: 0.0646\n",
      "Epoch 3/10\n",
      "23/23 [==============================] - 0s 9ms/step - loss: 4.7856 - accuracy: 0.0720 - val_loss: 5.1154 - val_accuracy: 0.0686\n",
      "Epoch 4/10\n",
      "23/23 [==============================] - 0s 9ms/step - loss: 4.7747 - accuracy: 0.0720 - val_loss: 5.1233 - val_accuracy: 0.0658\n",
      "Epoch 5/10\n",
      "23/23 [==============================] - 0s 10ms/step - loss: 4.7710 - accuracy: 0.0713 - val_loss: 5.1190 - val_accuracy: 0.0698\n",
      "Epoch 6/10\n",
      "23/23 [==============================] - 0s 9ms/step - loss: 4.7611 - accuracy: 0.0772 - val_loss: 5.1257 - val_accuracy: 0.0694\n",
      "Epoch 7/10\n",
      "23/23 [==============================] - 0s 9ms/step - loss: 4.7503 - accuracy: 0.0789 - val_loss: 5.1220 - val_accuracy: 0.0690\n",
      "Epoch 8/10\n",
      "23/23 [==============================] - 0s 9ms/step - loss: 4.7455 - accuracy: 0.0787 - val_loss: 5.1196 - val_accuracy: 0.0682\n",
      "Epoch 9/10\n",
      "23/23 [==============================] - 0s 9ms/step - loss: 4.7378 - accuracy: 0.0792 - val_loss: 5.1306 - val_accuracy: 0.0678\n",
      "Epoch 10/10\n",
      "23/23 [==============================] - 0s 9ms/step - loss: 4.7245 - accuracy: 0.0796 - val_loss: 5.1266 - val_accuracy: 0.0694\n"
     ]
    },
    {
     "data": {
      "image/png": "[encoded data removed]",
      "text/plain": [
       "<Figure size 432x288 with 1 Axes>"
      ]
     },
     "metadata": {
      "needs_background": "light"
     },
     "output_type": "display_data"
    }
   ],
   "source": [
    "gm.train(X_train, y_train, 0.3, 256, 100)"
   ]
  },
  {
   "cell_type": "code",
   "execution_count": null,
   "id": "cf73ac94-72e7-4069-8acd-cdf0d32cde89",
   "metadata": {},
   "outputs": [],
   "source": []
  }
 ],
 "metadata": {
  "kernelspec": {
   "display_name": "Python 3",
   "language": "python",
   "name": "python3"
  },
  "language_info": {
   "codemirror_mode": {
    "name": "ipython",
    "version": 3
   },
   "file_extension": ".py",
   "mimetype": "text/x-python",
   "name": "python",
   "nbconvert_exporter": "python",
   "pygments_lexer": "ipython3",
   "version": "3.8.10"
  }
 },
 "nbformat": 4,
 "nbformat_minor": 5
}
