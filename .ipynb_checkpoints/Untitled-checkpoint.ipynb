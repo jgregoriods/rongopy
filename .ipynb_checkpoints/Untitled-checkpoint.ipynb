{
 "cells": [
  {
   "cell_type": "code",
   "execution_count": 2,
   "id": "ffdde3a0-1423-4ed1-861f-109036ef888c",
   "metadata": {},
   "outputs": [],
   "source": [
    "from utils import load_data\n",
    "from explore.glyph_stats import GlyphStats\n",
    "from models.glyph_model import GlyphModel"
   ]
  },
  {
   "cell_type": "code",
   "execution_count": 3,
   "id": "191a43ed-05f6-4c86-a5a5-8270b797b51b",
   "metadata": {},
   "outputs": [],
   "source": [
    "tablets = load_data(\"./tablets/tablets_clean.json\")"
   ]
  },
  {
   "cell_type": "code",
   "execution_count": 4,
   "id": "d3163a5a-ad7f-4aa7-ac1a-9fb3419829fd",
   "metadata": {},
   "outputs": [],
   "source": [
    "from config import TABLET_SUBSET"
   ]
  },
  {
   "cell_type": "code",
   "execution_count": 5,
   "id": "20b0f1d9-78d5-4a03-99e7-14fa90112af4",
   "metadata": {},
   "outputs": [],
   "source": [
    "tablets = {tablet: tablets[tablet] for tablet in TABLET_SUBSET}"
   ]
  },
  {
   "cell_type": "code",
   "execution_count": 7,
   "id": "5a6f6b9f-b8aa-4791-a2e5-f8b756fef22e",
   "metadata": {},
   "outputs": [],
   "source": [
    "gs = GlyphModel(tablets)"
   ]
  },
  {
   "cell_type": "code",
   "execution_count": 14,
   "id": "b6422b5b-27c3-405f-846b-1a95a1af213c",
   "metadata": {},
   "outputs": [],
   "source": [
    "X_train, y_train, X_test, y_test = gs.make_training_data(0.1)"
   ]
  },
  {
   "cell_type": "code",
   "execution_count": 15,
   "id": "eefbb5fa-323d-4eea-9dac-2ee6fb7cc006",
   "metadata": {},
   "outputs": [],
   "source": [
    "gs.build(32, 256, 0.2)"
   ]
  },
  {
   "cell_type": "code",
   "execution_count": 16,
   "id": "3271d95d-bf96-45ef-8c4b-769c0d5e1597",
   "metadata": {},
   "outputs": [
    {
     "name": "stdout",
     "output_type": "stream",
     "text": [
      "Epoch 1/200\n",
      "115/115 [==============================] - 3s 14ms/step - loss: 4.2118 - accuracy: 0.3596 - val_loss: 3.0173 - val_accuracy: 0.3612\n",
      "Epoch 2/200\n",
      "115/115 [==============================] - 1s 11ms/step - loss: 2.9635 - accuracy: 0.3818 - val_loss: 3.0050 - val_accuracy: 0.3612\n",
      "Epoch 3/200\n",
      "115/115 [==============================] - 1s 11ms/step - loss: 2.9730 - accuracy: 0.3654 - val_loss: 2.9935 - val_accuracy: 0.3612\n",
      "Epoch 4/200\n",
      "115/115 [==============================] - 1s 11ms/step - loss: 2.9695 - accuracy: 0.3695 - val_loss: 3.0065 - val_accuracy: 0.3612\n",
      "Epoch 5/200\n",
      "115/115 [==============================] - 1s 11ms/step - loss: 2.9528 - accuracy: 0.3704 - val_loss: 2.9946 - val_accuracy: 0.3612\n",
      "Epoch 6/200\n",
      "115/115 [==============================] - 1s 11ms/step - loss: 2.9556 - accuracy: 0.3713 - val_loss: 2.9819 - val_accuracy: 0.3636\n",
      "Epoch 7/200\n",
      "115/115 [==============================] - 1s 11ms/step - loss: 2.9077 - accuracy: 0.3777 - val_loss: 2.9746 - val_accuracy: 0.3649\n",
      "Epoch 8/200\n",
      "115/115 [==============================] - 1s 11ms/step - loss: 2.9348 - accuracy: 0.3755 - val_loss: 2.9626 - val_accuracy: 0.3649\n",
      "Epoch 9/200\n",
      "115/115 [==============================] - 1s 11ms/step - loss: 2.8997 - accuracy: 0.3796 - val_loss: 2.9421 - val_accuracy: 0.3661\n",
      "Epoch 10/200\n",
      "115/115 [==============================] - 1s 11ms/step - loss: 2.9051 - accuracy: 0.3683 - val_loss: 2.9214 - val_accuracy: 0.3661\n",
      "Epoch 11/200\n",
      "115/115 [==============================] - 1s 11ms/step - loss: 2.8334 - accuracy: 0.3773 - val_loss: 2.9111 - val_accuracy: 0.3661\n",
      "Epoch 12/200\n",
      "115/115 [==============================] - 1s 11ms/step - loss: 2.8270 - accuracy: 0.3767 - val_loss: 2.9015 - val_accuracy: 0.3624\n",
      "Epoch 13/200\n",
      "115/115 [==============================] - 1s 11ms/step - loss: 2.7912 - accuracy: 0.3808 - val_loss: 2.8946 - val_accuracy: 0.3612\n",
      "Epoch 14/200\n",
      "115/115 [==============================] - 1s 11ms/step - loss: 2.7700 - accuracy: 0.3839 - val_loss: 2.8927 - val_accuracy: 0.3649\n",
      "Epoch 15/200\n",
      "115/115 [==============================] - 1s 11ms/step - loss: 2.7724 - accuracy: 0.3798 - val_loss: 2.8849 - val_accuracy: 0.3710\n",
      "Epoch 16/200\n",
      "115/115 [==============================] - 1s 11ms/step - loss: 2.7509 - accuracy: 0.3834 - val_loss: 2.8835 - val_accuracy: 0.3649\n",
      "Epoch 17/200\n",
      "115/115 [==============================] - 1s 11ms/step - loss: 2.7324 - accuracy: 0.3874 - val_loss: 2.8961 - val_accuracy: 0.3661\n",
      "Epoch 18/200\n",
      "115/115 [==============================] - 1s 11ms/step - loss: 2.6824 - accuracy: 0.3897 - val_loss: 2.8723 - val_accuracy: 0.3673\n",
      "Epoch 19/200\n",
      "115/115 [==============================] - 1s 11ms/step - loss: 2.6752 - accuracy: 0.3819 - val_loss: 2.8742 - val_accuracy: 0.3710\n",
      "Epoch 20/200\n",
      "115/115 [==============================] - 1s 11ms/step - loss: 2.6495 - accuracy: 0.3897 - val_loss: 2.8671 - val_accuracy: 0.3735\n",
      "Epoch 21/200\n",
      "115/115 [==============================] - 1s 11ms/step - loss: 2.6470 - accuracy: 0.3827 - val_loss: 2.8769 - val_accuracy: 0.3673\n",
      "Epoch 22/200\n",
      "115/115 [==============================] - 1s 11ms/step - loss: 2.6110 - accuracy: 0.3907 - val_loss: 2.8655 - val_accuracy: 0.3698\n",
      "Epoch 23/200\n",
      "115/115 [==============================] - 1s 11ms/step - loss: 2.6097 - accuracy: 0.3918 - val_loss: 2.8730 - val_accuracy: 0.3735\n",
      "Epoch 24/200\n",
      "115/115 [==============================] - 1s 12ms/step - loss: 2.5552 - accuracy: 0.3969 - val_loss: 2.8792 - val_accuracy: 0.3686\n",
      "Epoch 25/200\n",
      "115/115 [==============================] - 1s 12ms/step - loss: 2.5532 - accuracy: 0.3961 - val_loss: 2.8900 - val_accuracy: 0.3722\n",
      "Epoch 26/200\n",
      "115/115 [==============================] - 1s 12ms/step - loss: 2.4887 - accuracy: 0.4084 - val_loss: 2.8730 - val_accuracy: 0.3673\n",
      "Epoch 27/200\n",
      "115/115 [==============================] - 1s 13ms/step - loss: 2.4822 - accuracy: 0.4060 - val_loss: 2.8880 - val_accuracy: 0.3686\n",
      "Epoch 28/200\n",
      "115/115 [==============================] - 1s 12ms/step - loss: 2.4410 - accuracy: 0.4090 - val_loss: 2.8975 - val_accuracy: 0.3710\n",
      "Epoch 29/200\n",
      "115/115 [==============================] - 1s 12ms/step - loss: 2.4154 - accuracy: 0.4153 - val_loss: 2.9044 - val_accuracy: 0.3636\n",
      "Epoch 30/200\n",
      "115/115 [==============================] - 1s 13ms/step - loss: 2.3191 - accuracy: 0.4283 - val_loss: 2.9242 - val_accuracy: 0.3649\n",
      "Epoch 31/200\n",
      "115/115 [==============================] - 1s 12ms/step - loss: 2.3289 - accuracy: 0.4212 - val_loss: 2.9278 - val_accuracy: 0.3673\n",
      "Epoch 32/200\n",
      "115/115 [==============================] - 1s 12ms/step - loss: 2.2470 - accuracy: 0.4308 - val_loss: 2.9492 - val_accuracy: 0.3759\n",
      "Epoch 33/200\n",
      "115/115 [==============================] - 1s 13ms/step - loss: 2.1984 - accuracy: 0.4343 - val_loss: 2.9767 - val_accuracy: 0.3624\n",
      "Epoch 34/200\n",
      "115/115 [==============================] - 1s 12ms/step - loss: 2.1231 - accuracy: 0.4430 - val_loss: 2.9988 - val_accuracy: 0.3649\n",
      "Epoch 35/200\n",
      "115/115 [==============================] - 1s 12ms/step - loss: 2.0725 - accuracy: 0.4598 - val_loss: 3.0262 - val_accuracy: 0.3686\n",
      "Epoch 36/200\n",
      "115/115 [==============================] - 1s 12ms/step - loss: 1.9658 - accuracy: 0.4791 - val_loss: 3.0666 - val_accuracy: 0.3501\n",
      "Epoch 37/200\n",
      "115/115 [==============================] - 1s 12ms/step - loss: 1.9024 - accuracy: 0.4882 - val_loss: 3.1457 - val_accuracy: 0.3464\n",
      "Epoch 38/200\n",
      "115/115 [==============================] - 1s 12ms/step - loss: 1.7569 - accuracy: 0.5259 - val_loss: 3.1292 - val_accuracy: 0.3440\n",
      "Epoch 39/200\n",
      "115/115 [==============================] - 1s 12ms/step - loss: 1.6864 - accuracy: 0.5359 - val_loss: 3.1798 - val_accuracy: 0.3403\n",
      "Epoch 40/200\n",
      "115/115 [==============================] - 1s 12ms/step - loss: 1.6103 - accuracy: 0.5554 - val_loss: 3.2412 - val_accuracy: 0.3317\n",
      "Epoch 41/200\n",
      "115/115 [==============================] - 1s 12ms/step - loss: 1.5021 - accuracy: 0.5773 - val_loss: 3.2884 - val_accuracy: 0.3403\n",
      "Epoch 42/200\n",
      "115/115 [==============================] - 1s 13ms/step - loss: 1.3755 - accuracy: 0.6243 - val_loss: 3.3485 - val_accuracy: 0.3268\n",
      "Epoch 00042: early stopping\n"
     ]
    },
    {
     "data": {
      "image/png": "[encoded data removed]",
      "text/plain": [
       "<Figure size 432x288 with 1 Axes>"
      ]
     },
     "metadata": {
      "needs_background": "light"
     },
     "output_type": "display_data"
    }
   ],
   "source": [
    "gs.train(X_train, y_train, 0.1, 128, 200)"
   ]
  },
  {
   "cell_type": "code",
   "execution_count": null,
   "id": "d220e86e-255a-4de6-94cb-9fb056bd7b28",
   "metadata": {},
   "outputs": [],
   "source": []
  }
 ],
 "metadata": {
  "kernelspec": {
   "display_name": "Python 3",
   "language": "python",
   "name": "python3"
  },
  "language_info": {
   "codemirror_mode": {
    "name": "ipython",
    "version": 3
   },
   "file_extension": ".py",
   "mimetype": "text/x-python",
   "name": "python",
   "nbconvert_exporter": "python",
   "pygments_lexer": "ipython3",
   "version": "3.8.10"
  }
 },
 "nbformat": 4,
 "nbformat_minor": 5
}
