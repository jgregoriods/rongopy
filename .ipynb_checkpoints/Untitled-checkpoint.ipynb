{
 "cells": [
  {
   "cell_type": "code",
   "execution_count": 1,
   "id": "guided-testament",
   "metadata": {},
   "outputs": [],
   "source": [
    "from data_loader import load_data"
   ]
  },
  {
   "cell_type": "code",
   "execution_count": 2,
   "id": "activated-creature",
   "metadata": {},
   "outputs": [],
   "source": [
    "from models.glyph_model import GlyphModel"
   ]
  },
  {
   "cell_type": "code",
   "execution_count": 3,
   "id": "universal-gibson",
   "metadata": {},
   "outputs": [],
   "source": [
    "tablets = load_data('./tablets/tablets_clean.json')"
   ]
  },
  {
   "cell_type": "code",
   "execution_count": 4,
   "id": "outside-surveillance",
   "metadata": {},
   "outputs": [],
   "source": [
    "gm = GlyphModel(tablets)"
   ]
  },
  {
   "cell_type": "code",
   "execution_count": 5,
   "id": "registered-cycle",
   "metadata": {},
   "outputs": [],
   "source": [
    "X, y = gm.make_training_data()"
   ]
  },
  {
   "cell_type": "code",
   "execution_count": 6,
   "id": "primary-caution",
   "metadata": {},
   "outputs": [],
   "source": [
    "gm.build(16, 128)"
   ]
  },
  {
   "cell_type": "code",
   "execution_count": 7,
   "id": "australian-advantage",
   "metadata": {},
   "outputs": [
    {
     "name": "stdout",
     "output_type": "stream",
     "text": [
      "Epoch 1/50\n",
      "52/52 [==============================] - 1s 20ms/step - loss: 5.3284 - accuracy: 0.0337 - val_loss: 4.9987 - val_accuracy: 0.0440\n",
      "Epoch 2/50\n",
      "52/52 [==============================] - 1s 12ms/step - loss: 4.8235 - accuracy: 0.0526 - val_loss: 5.0575 - val_accuracy: 0.0000e+00\n",
      "Epoch 3/50\n",
      "52/52 [==============================] - 1s 12ms/step - loss: 4.7638 - accuracy: 0.0551 - val_loss: 5.1680 - val_accuracy: 0.0659\n",
      "Epoch 4/50\n",
      "52/52 [==============================] - 1s 12ms/step - loss: 4.7368 - accuracy: 0.0422 - val_loss: 5.1912 - val_accuracy: 0.0440\n",
      "Epoch 5/50\n",
      "52/52 [==============================] - 1s 12ms/step - loss: 4.7129 - accuracy: 0.0490 - val_loss: 5.1656 - val_accuracy: 0.0659\n",
      "Epoch 6/50\n",
      "52/52 [==============================] - 1s 12ms/step - loss: 4.7089 - accuracy: 0.0588 - val_loss: 5.2604 - val_accuracy: 0.0055\n",
      "Epoch 7/50\n",
      "52/52 [==============================] - 1s 14ms/step - loss: 4.6979 - accuracy: 0.0630 - val_loss: 5.2696 - val_accuracy: 0.0440\n",
      "Epoch 8/50\n",
      "52/52 [==============================] - 1s 13ms/step - loss: 4.6318 - accuracy: 0.0636 - val_loss: 5.3276 - val_accuracy: 0.0495\n",
      "Epoch 9/50\n",
      "52/52 [==============================] - 1s 14ms/step - loss: 4.5972 - accuracy: 0.0716 - val_loss: 5.3000 - val_accuracy: 0.0440\n",
      "Epoch 10/50\n",
      "52/52 [==============================] - 1s 14ms/step - loss: 4.5543 - accuracy: 0.0777 - val_loss: 5.3910 - val_accuracy: 0.0330\n",
      "Epoch 11/50\n",
      "52/52 [==============================] - 1s 14ms/step - loss: 4.5235 - accuracy: 0.0716 - val_loss: 5.3120 - val_accuracy: 0.0714\n",
      "Epoch 12/50\n",
      "52/52 [==============================] - 1s 13ms/step - loss: 4.4867 - accuracy: 0.0875 - val_loss: 5.3841 - val_accuracy: 0.0385\n",
      "Epoch 13/50\n",
      "52/52 [==============================] - 1s 14ms/step - loss: 4.4544 - accuracy: 0.0845 - val_loss: 5.3454 - val_accuracy: 0.0440\n",
      "Epoch 14/50\n",
      "52/52 [==============================] - 1s 14ms/step - loss: 4.4218 - accuracy: 0.0698 - val_loss: 5.3897 - val_accuracy: 0.0385\n",
      "Epoch 15/50\n",
      "52/52 [==============================] - 1s 13ms/step - loss: 4.3857 - accuracy: 0.0857 - val_loss: 5.4514 - val_accuracy: 0.0495\n",
      "Epoch 16/50\n",
      "52/52 [==============================] - 1s 13ms/step - loss: 4.3512 - accuracy: 0.0930 - val_loss: 5.4238 - val_accuracy: 0.0659\n",
      "Epoch 17/50\n",
      "52/52 [==============================] - 1s 13ms/step - loss: 4.3115 - accuracy: 0.0924 - val_loss: 5.5849 - val_accuracy: 0.0549\n",
      "Epoch 18/50\n",
      "52/52 [==============================] - 1s 14ms/step - loss: 4.2833 - accuracy: 0.0973 - val_loss: 5.5248 - val_accuracy: 0.0549\n",
      "Epoch 19/50\n",
      "52/52 [==============================] - 1s 14ms/step - loss: 4.2173 - accuracy: 0.1083 - val_loss: 5.6001 - val_accuracy: 0.0549\n",
      "Epoch 20/50\n",
      "52/52 [==============================] - 1s 14ms/step - loss: 4.1860 - accuracy: 0.1126 - val_loss: 5.6346 - val_accuracy: 0.0165\n",
      "Epoch 21/50\n",
      "52/52 [==============================] - 1s 14ms/step - loss: 4.1585 - accuracy: 0.0955 - val_loss: 5.5992 - val_accuracy: 0.0440\n",
      "Epoch 22/50\n",
      "52/52 [==============================] - 1s 14ms/step - loss: 4.0962 - accuracy: 0.1040 - val_loss: 5.6856 - val_accuracy: 0.0330\n",
      "Epoch 23/50\n",
      "52/52 [==============================] - 1s 13ms/step - loss: 4.0401 - accuracy: 0.1212 - val_loss: 5.7278 - val_accuracy: 0.0330\n",
      "Epoch 24/50\n",
      "52/52 [==============================] - 1s 14ms/step - loss: 3.9777 - accuracy: 0.1279 - val_loss: 5.8678 - val_accuracy: 0.0165\n",
      "Epoch 25/50\n",
      "52/52 [==============================] - 1s 15ms/step - loss: 3.9495 - accuracy: 0.1316 - val_loss: 5.8007 - val_accuracy: 0.0275\n",
      "Epoch 26/50\n",
      "52/52 [==============================] - 1s 14ms/step - loss: 3.9099 - accuracy: 0.1310 - val_loss: 5.8633 - val_accuracy: 0.0275\n",
      "Epoch 27/50\n",
      "52/52 [==============================] - 1s 15ms/step - loss: 3.9180 - accuracy: 0.1285 - val_loss: 5.8560 - val_accuracy: 0.0440\n",
      "Epoch 28/50\n",
      "52/52 [==============================] - 1s 15ms/step - loss: 3.8446 - accuracy: 0.1273 - val_loss: 5.9466 - val_accuracy: 0.0165\n",
      "Epoch 29/50\n",
      "52/52 [==============================] - 1s 16ms/step - loss: 3.7543 - accuracy: 0.1383 - val_loss: 5.9797 - val_accuracy: 0.0165\n",
      "Epoch 30/50\n",
      "52/52 [==============================] - 1s 14ms/step - loss: 3.7494 - accuracy: 0.1481 - val_loss: 5.9859 - val_accuracy: 0.0385\n",
      "Epoch 31/50\n",
      "52/52 [==============================] - 1s 14ms/step - loss: 3.6964 - accuracy: 0.1395 - val_loss: 6.0772 - val_accuracy: 0.0220\n",
      "Epoch 32/50\n",
      "52/52 [==============================] - 1s 16ms/step - loss: 3.6453 - accuracy: 0.1457 - val_loss: 6.2044 - val_accuracy: 0.0165\n",
      "Epoch 33/50\n",
      "52/52 [==============================] - 1s 16ms/step - loss: 3.6229 - accuracy: 0.1524 - val_loss: 6.2788 - val_accuracy: 0.0110\n",
      "Epoch 34/50\n",
      "52/52 [==============================] - 1s 14ms/step - loss: 3.5729 - accuracy: 0.1689 - val_loss: 6.1392 - val_accuracy: 0.0385\n",
      "Epoch 35/50\n",
      "52/52 [==============================] - 1s 16ms/step - loss: 3.5297 - accuracy: 0.1677 - val_loss: 6.2145 - val_accuracy: 0.0385\n",
      "Epoch 36/50\n",
      "52/52 [==============================] - 1s 15ms/step - loss: 3.4911 - accuracy: 0.1787 - val_loss: 6.4244 - val_accuracy: 0.0220\n",
      "Epoch 37/50\n",
      "52/52 [==============================] - 1s 14ms/step - loss: 3.5039 - accuracy: 0.1714 - val_loss: 6.3020 - val_accuracy: 0.0165\n",
      "Epoch 38/50\n",
      "52/52 [==============================] - 1s 15ms/step - loss: 3.4121 - accuracy: 0.1763 - val_loss: 6.3088 - val_accuracy: 0.0220\n",
      "Epoch 39/50\n",
      "52/52 [==============================] - 1s 15ms/step - loss: 3.3734 - accuracy: 0.1769 - val_loss: 6.2746 - val_accuracy: 0.0275\n",
      "Epoch 40/50\n",
      "52/52 [==============================] - 1s 16ms/step - loss: 3.2932 - accuracy: 0.1909 - val_loss: 6.4793 - val_accuracy: 0.0220\n",
      "Epoch 41/50\n",
      "52/52 [==============================] - 1s 26ms/step - loss: 3.2756 - accuracy: 0.1934 - val_loss: 6.4700 - val_accuracy: 0.0220\n",
      "Epoch 42/50\n",
      "52/52 [==============================] - 1s 21ms/step - loss: 3.1861 - accuracy: 0.2166 - val_loss: 6.4964 - val_accuracy: 0.0165\n",
      "Epoch 43/50\n",
      "52/52 [==============================] - 1s 20ms/step - loss: 3.1405 - accuracy: 0.2307 - val_loss: 6.5111 - val_accuracy: 0.0330\n",
      "Epoch 44/50\n",
      "52/52 [==============================] - 1s 22ms/step - loss: 3.1107 - accuracy: 0.2289 - val_loss: 6.5435 - val_accuracy: 0.0220\n",
      "Epoch 45/50\n",
      "52/52 [==============================] - 1s 16ms/step - loss: 3.0685 - accuracy: 0.2448 - val_loss: 6.5890 - val_accuracy: 0.0330\n",
      "Epoch 46/50\n",
      "52/52 [==============================] - 1s 16ms/step - loss: 3.0335 - accuracy: 0.2411 - val_loss: 6.6167 - val_accuracy: 0.0275\n",
      "Epoch 47/50\n",
      "52/52 [==============================] - 1s 17ms/step - loss: 2.9712 - accuracy: 0.2430 - val_loss: 6.7191 - val_accuracy: 0.0275\n",
      "Epoch 48/50\n",
      "52/52 [==============================] - 1s 16ms/step - loss: 2.9294 - accuracy: 0.2619 - val_loss: 6.7087 - val_accuracy: 0.0220\n",
      "Epoch 49/50\n",
      "52/52 [==============================] - 1s 18ms/step - loss: 2.8915 - accuracy: 0.2687 - val_loss: 6.7500 - val_accuracy: 0.0275\n",
      "Epoch 50/50\n",
      "52/52 [==============================] - 1s 17ms/step - loss: 2.8278 - accuracy: 0.2754 - val_loss: 6.8039 - val_accuracy: 0.0165\n"
     ]
    },
    {
     "data": {
      "image/png": "[encoded data removed]",
      "text/plain": [
       "<Figure size 432x288 with 1 Axes>"
      ]
     },
     "metadata": {
      "needs_background": "light"
     },
     "output_type": "display_data"
    }
   ],
   "source": [
    "gm.train(X, y, 0.1, 50)"
   ]
  },
  {
   "cell_type": "code",
   "execution_count": null,
   "id": "asian-architecture",
   "metadata": {},
   "outputs": [],
   "source": []
  }
 ],
 "metadata": {
  "kernelspec": {
   "display_name": "Python 3",
   "language": "python",
   "name": "python3"
  },
  "language_info": {
   "codemirror_mode": {
    "name": "ipython",
    "version": 3
   },
   "file_extension": ".py",
   "mimetype": "text/x-python",
   "name": "python",
   "nbconvert_exporter": "python",
   "pygments_lexer": "ipython3",
   "version": "3.8.5"
  }
 },
 "nbformat": 4,
 "nbformat_minor": 5
}
