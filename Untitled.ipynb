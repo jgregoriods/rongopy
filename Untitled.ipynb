{
 "cells": [
  {
   "cell_type": "code",
   "execution_count": 1,
   "id": "a8e2008c-44f2-4d23-b8db-3adecc7d0e1e",
   "metadata": {},
   "outputs": [],
   "source": [
    "import matplotlib.pyplot as plt\n",
    "from config import TABLET_SUBSET\n",
    "\n",
    "from explore.glyph_stats import GlyphStats\n",
    "from explore.lang_stats import LangStats\n",
    "from models.language_models import CorpusLabeller, LanguageModelSVC, LanguageModelLSTM\n",
    "from ga import GeneticAlgorithm\n",
    "\n",
    "from utils import load_data"
   ]
  },
  {
   "cell_type": "code",
   "execution_count": 2,
   "id": "d6b9901e-ae9f-4cdd-878b-ad96b3f9f70d",
   "metadata": {},
   "outputs": [],
   "source": [
    "all_tablets = load_data('./tablets/tablets_clean.json')\n",
    "tablets = {tablet: all_tablets[tablet] for tablet in TABLET_SUBSET}"
   ]
  },
  {
   "cell_type": "code",
   "execution_count": 3,
   "id": "0b791e13-0026-4ae4-a701-ad7df126a02f",
   "metadata": {},
   "outputs": [],
   "source": [
    "raw_corpus = load_data('./language/corpus.txt')"
   ]
  },
  {
   "cell_type": "code",
   "execution_count": 4,
   "id": "97cc127a-4831-4eae-8804-ee6e9c5ee1e0",
   "metadata": {},
   "outputs": [
    {
     "name": "stdout",
     "output_type": "stream",
     "text": [
      "    Glyph                 Percent   Cumulative Percent\n",
      "0     001     0.06461710452766908  0.06461710452766908\n",
      "1     002     0.03666852990497484  0.10128563443264393\n",
      "2     004     0.03566238121855785   0.1369480156512018\n",
      "3     003     0.03476802683063164  0.17171604248183342\n",
      "4     022     0.02615986584684181  0.19787590832867524\n",
      "..    ...                     ...                  ...\n",
      "541   682  0.00011179429849077697   0.9995528228060321\n",
      "542   555  0.00011179429849077697   0.9996646171045228\n",
      "543   576  0.00011179429849077697   0.9997764114030135\n",
      "544   587  0.00011179429849077697   0.9998882057015043\n",
      "545   635  0.00011179429849077697    0.999999999999995\n",
      "\n",
      "[546 rows x 3 columns]\n",
      "   Glyph                Percent  Cumulative Percent\n",
      "50   711  0.0051425377305757405  0.6471771939631079\n"
     ]
    },
    {
     "data": {
      "image/png": "[encoded data removed]",
      "text/plain": [
       "<Figure size 432x288 with 1 Axes>"
      ]
     },
     "metadata": {
      "needs_background": "light"
     },
     "output_type": "display_data"
    }
   ],
   "source": [
    "gs = GlyphStats(tablets)\n",
    "\n",
    "glyph_frequencies = gs.get_percentages()\n",
    "print(glyph_frequencies)\n",
    "print(glyph_frequencies.loc[[50]])\n",
    "\n",
    "glyph_matrix = gs.get_matrix()\n",
    "plt.imshow(glyph_matrix[:50, :50])\n",
    "plt.show()\n",
    "\n",
    "top_glyphs = gs.get_top_n(50)\n",
    "gs.save('./saved_models/gs.pickle')"
   ]
  },
  {
   "cell_type": "code",
   "execution_count": 5,
   "id": "fe558b27-9269-455f-82ae-62704194ea09",
   "metadata": {},
   "outputs": [
    {
     "data": {
      "image/png": "[encoded data removed]",
      "text/plain": [
       "<Figure size 432x288 with 1 Axes>"
      ]
     },
     "metadata": {
      "needs_background": "light"
     },
     "output_type": "display_data"
    }
   ],
   "source": [
    "ls = LangStats(raw_corpus)\n",
    "corpus = ls.corpus\n",
    "\n",
    "syl_matrix = ls.get_matrix()\n",
    "plt.imshow(syl_matrix)\n",
    "plt.show()\n",
    "\n",
    "ls.save('./saved_models/ls.pickle')"
   ]
  },
  {
   "cell_type": "code",
   "execution_count": 6,
   "id": "760bed64-f7f1-4992-bdd2-5499bf7d1a99",
   "metadata": {},
   "outputs": [
    {
     "name": "stdout",
     "output_type": "stream",
     "text": [
      "LinearSVC score: 1.0\n",
      "Epoch 1/10\n",
      "11/11 [==============================] - 2s 76ms/step - loss: 0.6903 - accuracy: 0.5176 - val_loss: 0.6304 - val_accuracy: 0.8947\n",
      "Epoch 2/10\n",
      "11/11 [==============================] - 0s 23ms/step - loss: 0.4608 - accuracy: 0.9338 - val_loss: 0.0500 - val_accuracy: 1.0000\n",
      "Epoch 3/10\n",
      "11/11 [==============================] - 0s 23ms/step - loss: 0.3317 - accuracy: 0.8690 - val_loss: 0.0308 - val_accuracy: 1.0000\n",
      "Epoch 4/10\n",
      "11/11 [==============================] - 0s 23ms/step - loss: 0.0872 - accuracy: 0.9733 - val_loss: 0.0504 - val_accuracy: 1.0000\n",
      "Epoch 5/10\n",
      "11/11 [==============================] - 0s 22ms/step - loss: 0.0945 - accuracy: 0.9640 - val_loss: 0.0154 - val_accuracy: 1.0000\n",
      "Epoch 6/10\n",
      "11/11 [==============================] - 0s 22ms/step - loss: 0.0366 - accuracy: 0.9950 - val_loss: 0.0063 - val_accuracy: 1.0000\n",
      "Epoch 7/10\n",
      "11/11 [==============================] - 0s 22ms/step - loss: 0.0300 - accuracy: 0.9934 - val_loss: 0.0042 - val_accuracy: 1.0000\n",
      "Epoch 8/10\n",
      "11/11 [==============================] - 0s 23ms/step - loss: 0.0192 - accuracy: 0.9961 - val_loss: 0.0042 - val_accuracy: 1.0000\n",
      "Epoch 9/10\n",
      "11/11 [==============================] - 0s 23ms/step - loss: 0.0128 - accuracy: 0.9973 - val_loss: 0.0031 - val_accuracy: 1.0000\n",
      "Epoch 10/10\n",
      "11/11 [==============================] - 0s 23ms/step - loss: 0.0189 - accuracy: 0.9976 - val_loss: 0.0037 - val_accuracy: 1.0000\n"
     ]
    },
    {
     "data": {
      "image/png": "[encoded data removed]",
      "text/plain": [
       "<Figure size 432x288 with 1 Axes>"
      ]
     },
     "metadata": {
      "needs_background": "light"
     },
     "output_type": "display_data"
    }
   ],
   "source": [
    "cl = CorpusLabeller(corpus)\n",
    "labelled_texts = cl.labelled_texts\n",
    "cl.save('./saved_models/cl.pickle')\n",
    "\n",
    "svc = LanguageModelSVC(labelled_texts)\n",
    "X_train, y_train, X_test, y_test = svc.make_training_data(0.1)\n",
    "svc.train(X_train, y_train, X_test, y_test)\n",
    "\n",
    "lstm = LanguageModelLSTM(labelled_texts)\n",
    "X_train, y_train, X_test, y_test = lstm.make_training_data(0.1)\n",
    "lstm.build(32, 128, 0.2)\n",
    "lstm.train(X_train, y_train, 0.1, 10)"
   ]
  },
  {
   "cell_type": "code",
   "execution_count": 7,
   "id": "ee5fed05-ae4d-43bf-a780-ebf0261a8bda",
   "metadata": {},
   "outputs": [
    {
     "name": "stdout",
     "output_type": "stream",
     "text": [
      "\n",
      "Initializing population...\n"
     ]
    }
   ],
   "source": [
    "ga = GeneticAlgorithm(tablets, lstm, top_glyphs, 200, 100, 20, 0.8, 0.2)"
   ]
  },
  {
   "cell_type": "code",
   "execution_count": null,
   "id": "81bce517-4cdd-48ae-a239-db1e35365260",
   "metadata": {},
   "outputs": [
    {
     "name": "stdout",
     "output_type": "stream",
     "text": [
      "Evolving...\n",
      "Generation 71\tBest: 0.8898981213569641\tAvg: 0.64722579717636113"
     ]
    }
   ],
   "source": [
    "ga.evolve(80)"
   ]
  },
  {
   "cell_type": "code",
   "execution_count": null,
   "id": "9b2880cf-9bd2-4e1b-b72c-f0a43be860df",
   "metadata": {},
   "outputs": [],
   "source": []
  }
 ],
 "metadata": {
  "kernelspec": {
   "display_name": "Python 3",
   "language": "python",
   "name": "python3"
  },
  "language_info": {
   "codemirror_mode": {
    "name": "ipython",
    "version": 3
   },
   "file_extension": ".py",
   "mimetype": "text/x-python",
   "name": "python",
   "nbconvert_exporter": "python",
   "pygments_lexer": "ipython3",
   "version": "3.8.10"
  }
 },
 "nbformat": 4,
 "nbformat_minor": 5
}
