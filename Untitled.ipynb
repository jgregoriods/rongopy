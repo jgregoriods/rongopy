{
 "cells": [
  {
   "cell_type": "code",
   "execution_count": 1,
   "id": "mathematical-legislation",
   "metadata": {},
   "outputs": [],
   "source": [
    "from explore.lang_stats import LangStats\n",
    "from data_loader import load_data"
   ]
  },
  {
   "cell_type": "code",
   "execution_count": 2,
   "id": "laughing-street",
   "metadata": {},
   "outputs": [],
   "source": [
    "corpus = load_data('language/corpus.txt')"
   ]
  },
  {
   "cell_type": "code",
   "execution_count": 3,
   "id": "urban-silly",
   "metadata": {},
   "outputs": [],
   "source": [
    "ls = LangStats(corpus)"
   ]
  },
  {
   "cell_type": "code",
   "execution_count": 5,
   "id": "bored-abortion",
   "metadata": {},
   "outputs": [],
   "source": [
    "mt = ls.get_matrix()"
   ]
  },
  {
   "cell_type": "markdown",
   "id": "african-advocacy",
   "metadata": {},
   "source": [
    "import matplotlib.pyplot as plt"
   ]
  },
  {
   "cell_type": "code",
   "execution_count": 6,
   "id": "focal-albania",
   "metadata": {},
   "outputs": [],
   "source": [
    "import matplotlib.pyplot as plt"
   ]
  },
  {
   "cell_type": "code",
   "execution_count": 7,
   "id": "signal-encyclopedia",
   "metadata": {},
   "outputs": [
    {
     "data": {
      "text/plain": [
       "<matplotlib.image.AxesImage at 0x7fe732c28c70>"
      ]
     },
     "execution_count": 7,
     "metadata": {},
     "output_type": "execute_result"
    },
    {
     "data": {
      "image/png": "[encoded data removed]",
      "text/plain": [
       "<Figure size 432x288 with 1 Axes>"
      ]
     },
     "metadata": {
      "needs_background": "light"
     },
     "output_type": "display_data"
    }
   ],
   "source": [
    "plt.imshow(mt)"
   ]
  },
  {
   "cell_type": "code",
   "execution_count": null,
   "id": "independent-librarian",
   "metadata": {},
   "outputs": [],
   "source": []
  }
 ],
 "metadata": {
  "kernelspec": {
   "display_name": "Python 3",
   "language": "python",
   "name": "python3"
  },
  "language_info": {
   "codemirror_mode": {
    "name": "ipython",
    "version": 3
   },
   "file_extension": ".py",
   "mimetype": "text/x-python",
   "name": "python",
   "nbconvert_exporter": "python",
   "pygments_lexer": "ipython3",
   "version": "3.8.5"
  }
 },
 "nbformat": 4,
 "nbformat_minor": 5
}
