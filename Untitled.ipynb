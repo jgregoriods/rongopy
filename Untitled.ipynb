{
 "cells": [
  {
   "cell_type": "code",
   "execution_count": 1,
   "id": "b30ba281-d4f8-4f35-91fd-cbace5aa1390",
   "metadata": {},
   "outputs": [],
   "source": [
    "from data_loader import load_data"
   ]
  },
  {
   "cell_type": "code",
   "execution_count": 2,
   "id": "a1950e7b-9ed3-4f81-9b0f-6389e618a670",
   "metadata": {},
   "outputs": [],
   "source": [
    "tablets = load_data(\"tablets/tablets_simple.json\")"
   ]
  },
  {
   "cell_type": "code",
   "execution_count": 3,
   "id": "ab4837a1-78ca-4938-8c40-f0ebd7c32260",
   "metadata": {},
   "outputs": [],
   "source": [
    "from ga import GeneticAlgorithm, Genome"
   ]
  },
  {
   "cell_type": "code",
   "execution_count": 4,
   "id": "d6f8cd07-60bb-426b-bde0-2fc68b552305",
   "metadata": {},
   "outputs": [],
   "source": [
    "corpus = load_data(\"language/corpus.txt\")"
   ]
  },
  {
   "cell_type": "code",
   "execution_count": 5,
   "id": "7852cea6-7dc7-4d3a-9564-3df776eb26a2",
   "metadata": {},
   "outputs": [],
   "source": [
    "from explore.lang_stats import LangStats"
   ]
  },
  {
   "cell_type": "code",
   "execution_count": 6,
   "id": "258d067b-2fa1-4ad3-8604-de109c093026",
   "metadata": {},
   "outputs": [],
   "source": [
    "from models.language_models import LanguageModelLSTM, CorpusLabeller"
   ]
  },
  {
   "cell_type": "code",
   "execution_count": 7,
   "id": "2daaf8ef-77a1-40e8-9524-ed84007bde76",
   "metadata": {},
   "outputs": [],
   "source": [
    "ls = LangStats(corpus)"
   ]
  },
  {
   "cell_type": "code",
   "execution_count": 8,
   "id": "640310b6-f16c-4850-a3c6-4730e8bf4e24",
   "metadata": {},
   "outputs": [],
   "source": [
    "cl = CorpusLabeller(ls.corpus)"
   ]
  },
  {
   "cell_type": "code",
   "execution_count": 9,
   "id": "06029825-553c-4bbf-b014-5a757ce8bf6f",
   "metadata": {},
   "outputs": [],
   "source": [
    "lstm = LanguageModelLSTM(cl.labelled_texts)"
   ]
  },
  {
   "cell_type": "code",
   "execution_count": 10,
   "id": "8ead8100-09aa-4c56-8768-fd3e23917f0e",
   "metadata": {},
   "outputs": [],
   "source": [
    "X_train, y_train, X_test, y_test = lstm.make_training_data(0.3)"
   ]
  },
  {
   "cell_type": "code",
   "execution_count": 11,
   "id": "7b573546-01e1-43fa-abce-fd4e29cb08a1",
   "metadata": {},
   "outputs": [],
   "source": [
    "lstm.build(32, 128, 0.2)"
   ]
  },
  {
   "cell_type": "code",
   "execution_count": 12,
   "id": "76ef5d88-4800-48c6-9d6d-ec2330ed945b",
   "metadata": {},
   "outputs": [
    {
     "name": "stdout",
     "output_type": "stream",
     "text": [
      "Epoch 1/20\n",
      "7/7 [==============================] - 4s 210ms/step - loss: 0.6919 - accuracy: 0.4865 - val_loss: 0.6906 - val_accuracy: 0.4318\n",
      "Epoch 2/20\n",
      "7/7 [==============================] - 0s 57ms/step - loss: 0.6714 - accuracy: 0.6301 - val_loss: 0.6080 - val_accuracy: 0.7841\n",
      "Epoch 3/20\n",
      "7/7 [==============================] - 0s 56ms/step - loss: 0.4305 - accuracy: 0.9239 - val_loss: 0.3109 - val_accuracy: 0.9205\n",
      "Epoch 4/20\n",
      "7/7 [==============================] - 0s 56ms/step - loss: 0.1201 - accuracy: 0.9570 - val_loss: 0.1186 - val_accuracy: 0.9659\n",
      "Epoch 5/20\n",
      "7/7 [==============================] - 0s 57ms/step - loss: 0.0895 - accuracy: 0.9891 - val_loss: 0.3501 - val_accuracy: 0.8864\n",
      "Epoch 6/20\n",
      "7/7 [==============================] - 0s 55ms/step - loss: 0.1169 - accuracy: 0.9688 - val_loss: 0.3259 - val_accuracy: 0.8977\n",
      "Epoch 7/20\n",
      "7/7 [==============================] - 0s 56ms/step - loss: 0.0511 - accuracy: 0.9862 - val_loss: 0.3970 - val_accuracy: 0.8750\n",
      "Epoch 8/20\n",
      "7/7 [==============================] - 0s 53ms/step - loss: 0.0588 - accuracy: 0.9852 - val_loss: 0.2300 - val_accuracy: 0.8864\n",
      "Epoch 9/20\n",
      "7/7 [==============================] - 0s 55ms/step - loss: 0.0442 - accuracy: 0.9892 - val_loss: 0.3504 - val_accuracy: 0.8864\n",
      "Epoch 10/20\n",
      "7/7 [==============================] - 0s 54ms/step - loss: 0.0138 - accuracy: 1.0000 - val_loss: 0.5109 - val_accuracy: 0.8750\n",
      "Epoch 11/20\n",
      "7/7 [==============================] - 0s 55ms/step - loss: 0.0311 - accuracy: 0.9951 - val_loss: 0.2358 - val_accuracy: 0.9545\n",
      "Epoch 12/20\n",
      "7/7 [==============================] - 0s 54ms/step - loss: 0.0144 - accuracy: 0.9981 - val_loss: 0.2317 - val_accuracy: 0.9545\n",
      "Epoch 13/20\n",
      "7/7 [==============================] - 0s 57ms/step - loss: 0.0034 - accuracy: 1.0000 - val_loss: 0.2633 - val_accuracy: 0.9432\n",
      "Epoch 14/20\n",
      "7/7 [==============================] - 0s 54ms/step - loss: 0.0026 - accuracy: 1.0000 - val_loss: 0.3743 - val_accuracy: 0.9205\n",
      "Epoch 15/20\n",
      "7/7 [==============================] - 0s 53ms/step - loss: 0.0011 - accuracy: 1.0000 - val_loss: 0.4685 - val_accuracy: 0.9205\n",
      "Epoch 16/20\n",
      "7/7 [==============================] - 0s 53ms/step - loss: 3.8588e-04 - accuracy: 1.0000 - val_loss: 0.5115 - val_accuracy: 0.9205\n",
      "Epoch 17/20\n",
      "7/7 [==============================] - 0s 53ms/step - loss: 4.6238e-04 - accuracy: 1.0000 - val_loss: 0.5354 - val_accuracy: 0.9091\n",
      "Epoch 18/20\n",
      "7/7 [==============================] - 0s 56ms/step - loss: 4.6279e-04 - accuracy: 1.0000 - val_loss: 0.5510 - val_accuracy: 0.9091\n",
      "Epoch 19/20\n",
      "7/7 [==============================] - 0s 54ms/step - loss: 2.2446e-04 - accuracy: 1.0000 - val_loss: 0.5609 - val_accuracy: 0.9091\n",
      "Epoch 20/20\n",
      "7/7 [==============================] - 0s 54ms/step - loss: 2.3421e-04 - accuracy: 1.0000 - val_loss: 0.5685 - val_accuracy: 0.9091\n"
     ]
    },
    {
     "data": {
      "image/png": "[encoded data removed]",
      "text/plain": [
       "<Figure size 432x288 with 1 Axes>"
      ]
     },
     "metadata": {
      "needs_background": "light"
     },
     "output_type": "display_data"
    }
   ],
   "source": [
    "lstm.train(X_train, y_train, 0.3, 20)"
   ]
  },
  {
   "cell_type": "code",
   "execution_count": 13,
   "id": "d4e4abd9-ab82-433c-9033-f5143f9ff260",
   "metadata": {},
   "outputs": [],
   "source": [
    "selected = ['A', 'B', 'C', 'D', 'E', 'G', 'N', 'P', 'R', 'S']\n",
    "tablets_subset = {k: tablets[k] for k in selected}"
   ]
  },
  {
   "cell_type": "code",
   "execution_count": 14,
   "id": "541e792c-892d-4052-9541-ff70678bb73a",
   "metadata": {},
   "outputs": [],
   "source": [
    "from explore.glyph_stats import GlyphStats"
   ]
  },
  {
   "cell_type": "code",
   "execution_count": 15,
   "id": "c94a1ed4-2f86-46be-b62d-61f621fd4d83",
   "metadata": {},
   "outputs": [],
   "source": [
    "gs = GlyphStats(tablets_subset)"
   ]
  },
  {
   "cell_type": "code",
   "execution_count": 16,
   "id": "63edeef3-3ae6-4e36-b469-80e636956367",
   "metadata": {},
   "outputs": [],
   "source": [
    "glyphs = gs.get_top_n(50)"
   ]
  },
  {
   "cell_type": "code",
   "execution_count": 25,
   "id": "a1bcfb32-e1c5-4d6c-989c-d94e4a7c7527",
   "metadata": {},
   "outputs": [
    {
     "name": "stderr",
     "output_type": "stream",
     "text": [
      "  0%|          | 2/500 [00:00<00:35, 13.90it/s]"
     ]
    },
    {
     "name": "stdout",
     "output_type": "stream",
     "text": [
      "\n",
      "Initializing population\n"
     ]
    },
    {
     "name": "stderr",
     "output_type": "stream",
     "text": [
      "100%|██████████| 500/500 [00:35<00:00, 14.22it/s]\n"
     ]
    }
   ],
   "source": [
    "ga = GeneticAlgorithm(tablets_subset, lstm, glyphs, 500, 250, 50, 0.5, 0.2)"
   ]
  },
  {
   "cell_type": "code",
   "execution_count": 26,
   "id": "223319fd-bedd-45a4-ac8b-ca6990915f4d",
   "metadata": {},
   "outputs": [
    {
     "name": "stdout",
     "output_type": "stream",
     "text": [
      "\n",
      "Evolving\n",
      "\n",
      "Generation 1\n"
     ]
    },
    {
     "name": "stderr",
     "output_type": "stream",
     "text": [
      "100%|██████████| 500/500 [00:20<00:00, 24.10it/s]\n"
     ]
    },
    {
     "name": "stdout",
     "output_type": "stream",
     "text": [
      "Best: 0.5923640727996826\tAvg: 0.14309348165988922\n",
      "\n",
      "Generation 2\n"
     ]
    },
    {
     "name": "stderr",
     "output_type": "stream",
     "text": [
      "100%|██████████| 500/500 [00:21<00:00, 23.39it/s]\n"
     ]
    },
    {
     "name": "stdout",
     "output_type": "stream",
     "text": [
      "Best: 0.6039277911186218\tAvg: 0.20570345222949982\n",
      "\n",
      "Generation 3\n"
     ]
    },
    {
     "name": "stderr",
     "output_type": "stream",
     "text": [
      "100%|██████████| 500/500 [00:20<00:00, 23.83it/s]\n"
     ]
    },
    {
     "name": "stdout",
     "output_type": "stream",
     "text": [
      "Best: 0.6962127685546875\tAvg: 0.2690405249595642\n",
      "\n",
      "Generation 4\n"
     ]
    },
    {
     "name": "stderr",
     "output_type": "stream",
     "text": [
      "100%|██████████| 500/500 [00:21<00:00, 22.84it/s]\n"
     ]
    },
    {
     "name": "stdout",
     "output_type": "stream",
     "text": [
      "Best: 0.6962127685546875\tAvg: 0.3382216691970825\n",
      "\n",
      "Generation 5\n"
     ]
    },
    {
     "name": "stderr",
     "output_type": "stream",
     "text": [
      "100%|██████████| 500/500 [00:21<00:00, 23.54it/s]\n"
     ]
    },
    {
     "name": "stdout",
     "output_type": "stream",
     "text": [
      "Best: 0.7420244216918945\tAvg: 0.3691278100013733\n",
      "\n",
      "Generation 6\n"
     ]
    },
    {
     "name": "stderr",
     "output_type": "stream",
     "text": [
      "100%|██████████| 500/500 [00:20<00:00, 24.31it/s]\n"
     ]
    },
    {
     "name": "stdout",
     "output_type": "stream",
     "text": [
      "Best: 0.7420244216918945\tAvg: 0.4097060561180115\n",
      "\n",
      "Generation 7\n"
     ]
    },
    {
     "name": "stderr",
     "output_type": "stream",
     "text": [
      "100%|██████████| 500/500 [00:20<00:00, 24.32it/s]\n"
     ]
    },
    {
     "name": "stdout",
     "output_type": "stream",
     "text": [
      "Best: 0.7433220148086548\tAvg: 0.45675286650657654\n",
      "\n",
      "Generation 8\n"
     ]
    },
    {
     "name": "stderr",
     "output_type": "stream",
     "text": [
      "100%|██████████| 500/500 [00:20<00:00, 24.29it/s]\n"
     ]
    },
    {
     "name": "stdout",
     "output_type": "stream",
     "text": [
      "Best: 0.7433220148086548\tAvg: 0.49043986201286316\n",
      "\n",
      "Generation 9\n"
     ]
    },
    {
     "name": "stderr",
     "output_type": "stream",
     "text": [
      "100%|██████████| 500/500 [00:21<00:00, 23.00it/s]\n"
     ]
    },
    {
     "name": "stdout",
     "output_type": "stream",
     "text": [
      "Best: 0.8102477192878723\tAvg: 0.4588869512081146\n",
      "\n",
      "Generation 10\n"
     ]
    },
    {
     "name": "stderr",
     "output_type": "stream",
     "text": [
      "100%|██████████| 500/500 [00:20<00:00, 23.87it/s]\n"
     ]
    },
    {
     "name": "stdout",
     "output_type": "stream",
     "text": [
      "Best: 0.8102477192878723\tAvg: 0.5030231475830078\n"
     ]
    },
    {
     "data": {
      "image/png": "[encoded data removed]",
      "text/plain": [
       "<Figure size 432x288 with 1 Axes>"
      ]
     },
     "metadata": {
      "needs_background": "light"
     },
     "output_type": "display_data"
    }
   ],
   "source": [
    "ga.evolve(10)"
   ]
  },
  {
   "cell_type": "code",
   "execution_count": null,
   "id": "ab745aab-cabe-4e6c-9e45-754462969cfa",
   "metadata": {},
   "outputs": [],
   "source": []
  }
 ],
 "metadata": {
  "kernelspec": {
   "display_name": "Python 3",
   "language": "python",
   "name": "python3"
  },
  "language_info": {
   "codemirror_mode": {
    "name": "ipython",
    "version": 3
   },
   "file_extension": ".py",
   "mimetype": "text/x-python",
   "name": "python",
   "nbconvert_exporter": "python",
   "pygments_lexer": "ipython3",
   "version": "3.8.10"
  }
 },
 "nbformat": 4,
 "nbformat_minor": 5
}
