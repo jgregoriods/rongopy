{
 "cells": [
  {
   "cell_type": "code",
   "execution_count": 1,
   "id": "cd279a55-9150-4955-a457-300af0c9041d",
   "metadata": {},
   "outputs": [],
   "source": [
    "from explore.lang_stats import LangStats\n",
    "from utils import CorpusLabeller\n",
    "from models.language_models import LanguageModelSVC"
   ]
  },
  {
   "cell_type": "code",
   "execution_count": 2,
   "id": "79fb10f1-1ecd-43a6-977f-8fc21740acc3",
   "metadata": {},
   "outputs": [],
   "source": [
    "from data_loader import load_data"
   ]
  },
  {
   "cell_type": "code",
   "execution_count": 3,
   "id": "fce4c821-50c3-4969-ae28-bb499070a947",
   "metadata": {},
   "outputs": [],
   "source": [
    "raw_corpus = load_data('./language/corpus.txt')"
   ]
  },
  {
   "cell_type": "code",
   "execution_count": 4,
   "id": "d5905631-e0fb-4fb6-9cc7-b69de21dbaf5",
   "metadata": {},
   "outputs": [],
   "source": [
    "ls = LangStats(raw_corpus)"
   ]
  },
  {
   "cell_type": "code",
   "execution_count": 5,
   "id": "dfc831f8-8a92-4372-af8a-a2b4af072475",
   "metadata": {},
   "outputs": [],
   "source": [
    "corpus = ls.corpus"
   ]
  },
  {
   "cell_type": "code",
   "execution_count": 6,
   "id": "3614f33f-0e6a-4f36-8271-2a0fa167d7cc",
   "metadata": {},
   "outputs": [],
   "source": [
    "cl = CorpusLabeller(corpus)"
   ]
  },
  {
   "cell_type": "code",
   "execution_count": 7,
   "id": "ceebf1f9-5e99-42c4-b6e1-5310469d6147",
   "metadata": {},
   "outputs": [],
   "source": [
    "texts = cl.labelled_texts"
   ]
  },
  {
   "cell_type": "code",
   "execution_count": 8,
   "id": "466c6e01-8745-4d96-96dd-32405be859eb",
   "metadata": {},
   "outputs": [],
   "source": [
    "lm = LanguageModelSVC(texts)"
   ]
  },
  {
   "cell_type": "code",
   "execution_count": 9,
   "id": "2ca32c52-5613-4613-9d84-cc74596ff73f",
   "metadata": {},
   "outputs": [],
   "source": [
    "X_train, y_train, X_test, y_test = lm.make_training_data(0.25)"
   ]
  },
  {
   "cell_type": "code",
   "execution_count": 10,
   "id": "863ca0de-b6f2-44fe-9cfd-6e65c06c8381",
   "metadata": {},
   "outputs": [
    {
     "name": "stdout",
     "output_type": "stream",
     "text": [
      "LinearSVC score: 0.9294871794871795\n"
     ]
    }
   ],
   "source": [
    "lm.train(X_train, y_train, X_test, y_test)"
   ]
  },
  {
   "cell_type": "code",
   "execution_count": 13,
   "id": "96cd07f1-ed2a-4df5-a8bf-8d39826eb40f",
   "metadata": {},
   "outputs": [
    {
     "data": {
      "text/plain": [
       "array([[0.27430834, 0.72569166]])"
      ]
     },
     "execution_count": 13,
     "metadata": {},
     "output_type": "execute_result"
    }
   ],
   "source": [
    "lm.predict([\"'a 'a ki 'a\"])"
   ]
  },
  {
   "cell_type": "code",
   "execution_count": null,
   "id": "300a21c8-3b35-4bef-8c56-3346d74bd827",
   "metadata": {},
   "outputs": [],
   "source": []
  }
 ],
 "metadata": {
  "kernelspec": {
   "display_name": "Python 3",
   "language": "python",
   "name": "python3"
  },
  "language_info": {
   "codemirror_mode": {
    "name": "ipython",
    "version": 3
   },
   "file_extension": ".py",
   "mimetype": "text/x-python",
   "name": "python",
   "nbconvert_exporter": "python",
   "pygments_lexer": "ipython3",
   "version": "3.8.10"
  }
 },
 "nbformat": 4,
 "nbformat_minor": 5
}
