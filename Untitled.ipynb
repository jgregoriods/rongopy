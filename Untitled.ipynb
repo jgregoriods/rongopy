{
 "cells": [
  {
   "cell_type": "code",
   "execution_count": 1,
   "id": "single-mathematics",
   "metadata": {},
   "outputs": [],
   "source": [
    "from prepare_texts import data"
   ]
  },
  {
   "cell_type": "code",
   "execution_count": 2,
   "id": "circular-webcam",
   "metadata": {},
   "outputs": [],
   "source": [
    "from language_models import LanguageModelSVC"
   ]
  },
  {
   "cell_type": "code",
   "execution_count": 3,
   "id": "analyzed-immune",
   "metadata": {},
   "outputs": [],
   "source": [
    "lm = LanguageModelSVC(data)"
   ]
  },
  {
   "cell_type": "code",
   "execution_count": 4,
   "id": "pediatric-sound",
   "metadata": {},
   "outputs": [],
   "source": [
    "X_train, y_train, X_test, y_test = lm.make_training_data(0.1)"
   ]
  },
  {
   "cell_type": "code",
   "execution_count": 5,
   "id": "indirect-arcade",
   "metadata": {},
   "outputs": [
    {
     "name": "stdout",
     "output_type": "stream",
     "text": [
      "LinearSVC score: 0.8773333333333333\n"
     ]
    }
   ],
   "source": [
    "lm.train(X_train, y_train, X_test, y_test)"
   ]
  }
 ],
 "metadata": {
  "kernelspec": {
   "display_name": "Python 3",
   "language": "python",
   "name": "python3"
  },
  "language_info": {
   "codemirror_mode": {
    "name": "ipython",
    "version": 3
   },
   "file_extension": ".py",
   "mimetype": "text/x-python",
   "name": "python",
   "nbconvert_exporter": "python",
   "pygments_lexer": "ipython3",
   "version": "3.8.5"
  }
 },
 "nbformat": 4,
 "nbformat_minor": 5
}
