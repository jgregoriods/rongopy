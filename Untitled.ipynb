{
 "cells": [
  {
   "cell_type": "code",
   "execution_count": 1,
   "id": "cd279a55-9150-4955-a457-300af0c9041d",
   "metadata": {},
   "outputs": [],
   "source": [
    "from explore.lang_stats import LangStats\n",
    "from utils import CorpusLabeller\n",
    "from models.language_models import LanguageModelLSTM"
   ]
  },
  {
   "cell_type": "code",
   "execution_count": 2,
   "id": "79fb10f1-1ecd-43a6-977f-8fc21740acc3",
   "metadata": {},
   "outputs": [],
   "source": [
    "from data_loader import load_data"
   ]
  },
  {
   "cell_type": "code",
   "execution_count": 3,
   "id": "fce4c821-50c3-4969-ae28-bb499070a947",
   "metadata": {},
   "outputs": [],
   "source": [
    "raw_corpus = load_data('./language/corpus.txt')"
   ]
  },
  {
   "cell_type": "code",
   "execution_count": 4,
   "id": "d5905631-e0fb-4fb6-9cc7-b69de21dbaf5",
   "metadata": {},
   "outputs": [],
   "source": [
    "ls = LangStats(raw_corpus)"
   ]
  },
  {
   "cell_type": "code",
   "execution_count": 5,
   "id": "dfc831f8-8a92-4372-af8a-a2b4af072475",
   "metadata": {},
   "outputs": [],
   "source": [
    "corpus = ls.corpus"
   ]
  },
  {
   "cell_type": "code",
   "execution_count": 6,
   "id": "3614f33f-0e6a-4f36-8271-2a0fa167d7cc",
   "metadata": {},
   "outputs": [],
   "source": [
    "cl = CorpusLabeller(corpus)"
   ]
  },
  {
   "cell_type": "code",
   "execution_count": 7,
   "id": "ceebf1f9-5e99-42c4-b6e1-5310469d6147",
   "metadata": {},
   "outputs": [],
   "source": [
    "texts = cl.labelled_texts"
   ]
  },
  {
   "cell_type": "code",
   "execution_count": 8,
   "id": "466c6e01-8745-4d96-96dd-32405be859eb",
   "metadata": {},
   "outputs": [],
   "source": [
    "lstm = LanguageModelLSTM(texts)"
   ]
  },
  {
   "cell_type": "code",
   "execution_count": 9,
   "id": "2ca32c52-5613-4613-9d84-cc74596ff73f",
   "metadata": {},
   "outputs": [],
   "source": [
    "X_train, y_train, X_test, y_test = lstm.make_training_data(0.25)"
   ]
  },
  {
   "cell_type": "code",
   "execution_count": 10,
   "id": "thermal-disability",
   "metadata": {},
   "outputs": [],
   "source": [
    "lstm.build(16, 32, 0.5)"
   ]
  },
  {
   "cell_type": "code",
   "execution_count": 12,
   "id": "atlantic-affiliation",
   "metadata": {},
   "outputs": [
    {
     "name": "stdout",
     "output_type": "stream",
     "text": [
      "Epoch 1/10\n",
      "9/9 [==============================] - 0s 24ms/step - loss: 0.0388 - accuracy: 0.9929 - val_loss: 0.0327 - val_accuracy: 1.0000\n",
      "Epoch 2/10\n",
      "9/9 [==============================] - 0s 22ms/step - loss: 0.0329 - accuracy: 0.9893 - val_loss: 0.0244 - val_accuracy: 1.0000\n",
      "Epoch 3/10\n",
      "9/9 [==============================] - 0s 21ms/step - loss: 0.0309 - accuracy: 0.9964 - val_loss: 0.0188 - val_accuracy: 1.0000\n",
      "Epoch 4/10\n",
      "9/9 [==============================] - 0s 21ms/step - loss: 0.0221 - accuracy: 0.9929 - val_loss: 0.0232 - val_accuracy: 1.0000\n",
      "Epoch 5/10\n",
      "9/9 [==============================] - 0s 21ms/step - loss: 0.0170 - accuracy: 0.9964 - val_loss: 0.0123 - val_accuracy: 1.0000\n",
      "Epoch 6/10\n",
      "9/9 [==============================] - 0s 23ms/step - loss: 0.0195 - accuracy: 0.9964 - val_loss: 0.0112 - val_accuracy: 1.0000\n",
      "Epoch 7/10\n",
      "9/9 [==============================] - 0s 24ms/step - loss: 0.0128 - accuracy: 1.0000 - val_loss: 0.0101 - val_accuracy: 1.0000\n",
      "Epoch 8/10\n",
      "9/9 [==============================] - 0s 24ms/step - loss: 0.0119 - accuracy: 1.0000 - val_loss: 0.0083 - val_accuracy: 1.0000\n",
      "Epoch 9/10\n",
      "9/9 [==============================] - 0s 26ms/step - loss: 0.0095 - accuracy: 1.0000 - val_loss: 0.0071 - val_accuracy: 1.0000\n",
      "Epoch 10/10\n",
      "9/9 [==============================] - 0s 25ms/step - loss: 0.0081 - accuracy: 1.0000 - val_loss: 0.0058 - val_accuracy: 1.0000\n"
     ]
    },
    {
     "data": {
      "image/png": "[encoded data removed]",
      "text/plain": [
       "<Figure size 432x288 with 1 Axes>"
      ]
     },
     "metadata": {
      "needs_background": "light"
     },
     "output_type": "display_data"
    }
   ],
   "source": [
    "lstm.train(X_train, y_train, 0.1, 10)"
   ]
  },
  {
   "cell_type": "code",
   "execution_count": 26,
   "id": "editorial-tragedy",
   "metadata": {},
   "outputs": [
    {
     "data": {
      "text/plain": [
       "array([[0.34706083, 0.65293914]], dtype=float32)"
      ]
     },
     "execution_count": 26,
     "metadata": {},
     "output_type": "execute_result"
    }
   ],
   "source": [
    "lstm.model.predict_proba(inp)"
   ]
  },
  {
   "cell_type": "code",
   "execution_count": null,
   "id": "removed-benjamin",
   "metadata": {},
   "outputs": [],
   "source": []
  }
 ],
 "metadata": {
  "kernelspec": {
   "display_name": "Python 3",
   "language": "python",
   "name": "python3"
  },
  "language_info": {
   "codemirror_mode": {
    "name": "ipython",
    "version": 3
   },
   "file_extension": ".py",
   "mimetype": "text/x-python",
   "name": "python",
   "nbconvert_exporter": "python",
   "pygments_lexer": "ipython3",
   "version": "3.8.5"
  }
 },
 "nbformat": 4,
 "nbformat_minor": 5
}
