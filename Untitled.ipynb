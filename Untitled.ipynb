{
 "cells": [
  {
   "cell_type": "code",
   "execution_count": 1,
   "id": "ffdde3a0-1423-4ed1-861f-109036ef888c",
   "metadata": {},
   "outputs": [],
   "source": [
    "from utils import load_data\n",
    "from explore.glyph_stats import GlyphStats\n",
    "from models.glyph_model import GlyphModel"
   ]
  },
  {
   "cell_type": "code",
   "execution_count": 2,
   "id": "191a43ed-05f6-4c86-a5a5-8270b797b51b",
   "metadata": {},
   "outputs": [],
   "source": [
    "tablets = load_data(\"./tablets/tablets_simple.json\")"
   ]
  },
  {
   "cell_type": "code",
   "execution_count": 3,
   "id": "d3163a5a-ad7f-4aa7-ac1a-9fb3419829fd",
   "metadata": {},
   "outputs": [],
   "source": [
    "from config import TABLET_SUBSET"
   ]
  },
  {
   "cell_type": "code",
   "execution_count": 4,
   "id": "20b0f1d9-78d5-4a03-99e7-14fa90112af4",
   "metadata": {},
   "outputs": [],
   "source": [
    "tablets = {tablet: tablets[tablet] for tablet in TABLET_SUBSET}"
   ]
  },
  {
   "cell_type": "code",
   "execution_count": 5,
   "id": "5a6f6b9f-b8aa-4791-a2e5-f8b756fef22e",
   "metadata": {},
   "outputs": [],
   "source": [
    "gs = GlyphModel(tablets)"
   ]
  },
  {
   "cell_type": "code",
   "execution_count": 6,
   "id": "b6422b5b-27c3-405f-846b-1a95a1af213c",
   "metadata": {},
   "outputs": [],
   "source": [
    "X_train, y_train, X_test, y_test = gs.make_training_data(0.1)"
   ]
  },
  {
   "cell_type": "code",
   "execution_count": 7,
   "id": "eefbb5fa-323d-4eea-9dac-2ee6fb7cc006",
   "metadata": {},
   "outputs": [],
   "source": [
    "gs.build(32, 64, 0.2)"
   ]
  },
  {
   "cell_type": "code",
   "execution_count": null,
   "id": "3271d95d-bf96-45ef-8c4b-769c0d5e1597",
   "metadata": {},
   "outputs": [
    {
     "name": "stdout",
     "output_type": "stream",
     "text": [
      "Epoch 1/1000\n",
      "143/143 [==============================] - 4s 18ms/step - loss: 4.5382 - accuracy: 0.0951 - val_loss: 3.8092 - val_accuracy: 0.1192\n",
      "Epoch 2/1000\n",
      "143/143 [==============================] - 2s 14ms/step - loss: 3.7567 - accuracy: 0.1271 - val_loss: 3.8071 - val_accuracy: 0.1192\n",
      "Epoch 3/1000\n",
      "143/143 [==============================] - 2s 14ms/step - loss: 3.7613 - accuracy: 0.1232 - val_loss: 3.8218 - val_accuracy: 0.1192\n",
      "Epoch 4/1000\n",
      "143/143 [==============================] - 2s 14ms/step - loss: 3.7728 - accuracy: 0.1239 - val_loss: 3.7959 - val_accuracy: 0.1192\n",
      "Epoch 5/1000\n",
      "143/143 [==============================] - 2s 14ms/step - loss: 3.7278 - accuracy: 0.1429 - val_loss: 3.7528 - val_accuracy: 0.1507\n",
      "Epoch 6/1000\n",
      "143/143 [==============================] - 2s 14ms/step - loss: 3.6727 - accuracy: 0.1515 - val_loss: 3.7416 - val_accuracy: 0.1517\n",
      "Epoch 7/1000\n",
      "143/143 [==============================] - 2s 14ms/step - loss: 3.6628 - accuracy: 0.1552 - val_loss: 3.7191 - val_accuracy: 0.1537\n",
      "Epoch 8/1000\n",
      "143/143 [==============================] - 2s 14ms/step - loss: 3.6358 - accuracy: 0.1529 - val_loss: 3.7097 - val_accuracy: 0.1537\n",
      "Epoch 9/1000\n",
      "143/143 [==============================] - 2s 14ms/step - loss: 3.6148 - accuracy: 0.1530 - val_loss: 3.7049 - val_accuracy: 0.1635\n",
      "Epoch 10/1000\n",
      "143/143 [==============================] - 2s 14ms/step - loss: 3.6291 - accuracy: 0.1617 - val_loss: 3.6965 - val_accuracy: 0.1606\n",
      "Epoch 11/1000\n",
      "143/143 [==============================] - 2s 14ms/step - loss: 3.5723 - accuracy: 0.1691 - val_loss: 3.6909 - val_accuracy: 0.1665\n",
      "Epoch 12/1000\n",
      "143/143 [==============================] - 2s 14ms/step - loss: 3.5620 - accuracy: 0.1712 - val_loss: 3.6955 - val_accuracy: 0.1635\n",
      "Epoch 13/1000\n",
      "143/143 [==============================] - 2s 14ms/step - loss: 3.5510 - accuracy: 0.1626 - val_loss: 3.6911 - val_accuracy: 0.1645\n",
      "Epoch 14/1000\n",
      "143/143 [==============================] - 2s 14ms/step - loss: 3.5413 - accuracy: 0.1712 - val_loss: 3.6849 - val_accuracy: 0.1695\n",
      "Epoch 15/1000\n",
      "143/143 [==============================] - 2s 14ms/step - loss: 3.5309 - accuracy: 0.1751 - val_loss: 3.7066 - val_accuracy: 0.1635\n",
      "Epoch 16/1000\n",
      "143/143 [==============================] - 2s 14ms/step - loss: 3.5035 - accuracy: 0.1806 - val_loss: 3.7001 - val_accuracy: 0.1635\n",
      "Epoch 17/1000\n",
      "143/143 [==============================] - 2s 14ms/step - loss: 3.5119 - accuracy: 0.1775 - val_loss: 3.6931 - val_accuracy: 0.1675\n",
      "Epoch 18/1000\n",
      "143/143 [==============================] - 2s 14ms/step - loss: 3.4844 - accuracy: 0.1802 - val_loss: 3.7086 - val_accuracy: 0.1626\n",
      "Epoch 19/1000\n",
      "143/143 [==============================] - 2s 14ms/step - loss: 3.4817 - accuracy: 0.1824 - val_loss: 3.7035 - val_accuracy: 0.1606\n",
      "Epoch 20/1000\n",
      "143/143 [==============================] - 2s 14ms/step - loss: 3.4884 - accuracy: 0.1772 - val_loss: 3.6942 - val_accuracy: 0.1665\n",
      "Epoch 21/1000\n",
      "143/143 [==============================] - 2s 14ms/step - loss: 3.4792 - accuracy: 0.1823 - val_loss: 3.7207 - val_accuracy: 0.1704\n",
      "Epoch 22/1000\n",
      "143/143 [==============================] - 2s 14ms/step - loss: 3.4888 - accuracy: 0.1815 - val_loss: 3.7180 - val_accuracy: 0.1635\n",
      "Epoch 23/1000\n",
      "143/143 [==============================] - 2s 14ms/step - loss: 3.4503 - accuracy: 0.1817 - val_loss: 3.7085 - val_accuracy: 0.1685\n",
      "Epoch 24/1000\n",
      "143/143 [==============================] - 2s 15ms/step - loss: 3.4327 - accuracy: 0.1895 - val_loss: 3.7137 - val_accuracy: 0.1695\n",
      "Epoch 25/1000\n",
      "143/143 [==============================] - 2s 15ms/step - loss: 3.4444 - accuracy: 0.1842 - val_loss: 3.7171 - val_accuracy: 0.1714\n",
      "Epoch 26/1000\n",
      "143/143 [==============================] - 2s 15ms/step - loss: 3.4245 - accuracy: 0.1804 - val_loss: 3.7269 - val_accuracy: 0.1675\n",
      "Epoch 27/1000\n",
      "143/143 [==============================] - 2s 14ms/step - loss: 3.3949 - accuracy: 0.1967 - val_loss: 3.7233 - val_accuracy: 0.1714\n",
      "Epoch 28/1000\n",
      "143/143 [==============================] - 2s 14ms/step - loss: 3.4370 - accuracy: 0.1897 - val_loss: 3.7364 - val_accuracy: 0.1675\n",
      "Epoch 29/1000\n",
      "143/143 [==============================] - 2s 15ms/step - loss: 3.3774 - accuracy: 0.1945 - val_loss: 3.7273 - val_accuracy: 0.1773\n",
      "Epoch 30/1000\n",
      "143/143 [==============================] - 2s 15ms/step - loss: 3.3500 - accuracy: 0.1966 - val_loss: 3.7205 - val_accuracy: 0.1744\n",
      "Epoch 31/1000\n",
      "143/143 [==============================] - 2s 15ms/step - loss: 3.3686 - accuracy: 0.2005 - val_loss: 3.7364 - val_accuracy: 0.1635\n",
      "Epoch 32/1000\n",
      "143/143 [==============================] - 2s 15ms/step - loss: 3.3646 - accuracy: 0.1868 - val_loss: 3.7397 - val_accuracy: 0.1734\n",
      "Epoch 33/1000\n",
      "143/143 [==============================] - 2s 15ms/step - loss: 3.3450 - accuracy: 0.1945 - val_loss: 3.7337 - val_accuracy: 0.1704\n",
      "Epoch 34/1000\n",
      "143/143 [==============================] - 2s 15ms/step - loss: 3.3478 - accuracy: 0.1961 - val_loss: 3.7499 - val_accuracy: 0.1744\n",
      "Epoch 35/1000\n",
      "143/143 [==============================] - 2s 15ms/step - loss: 3.3154 - accuracy: 0.1989 - val_loss: 3.7505 - val_accuracy: 0.1675\n",
      "Epoch 36/1000\n",
      "143/143 [==============================] - 2s 15ms/step - loss: 3.3094 - accuracy: 0.1933 - val_loss: 3.7506 - val_accuracy: 0.1704\n",
      "Epoch 37/1000\n",
      "143/143 [==============================] - 2s 15ms/step - loss: 3.2746 - accuracy: 0.2042 - val_loss: 3.7551 - val_accuracy: 0.1764\n",
      "Epoch 38/1000\n",
      "143/143 [==============================] - 2s 15ms/step - loss: 3.2834 - accuracy: 0.2056 - val_loss: 3.7599 - val_accuracy: 0.1783\n",
      "Epoch 39/1000\n",
      "143/143 [==============================] - 2s 14ms/step - loss: 3.2717 - accuracy: 0.2090 - val_loss: 3.7892 - val_accuracy: 0.1704\n",
      "Epoch 40/1000\n",
      "143/143 [==============================] - 2s 14ms/step - loss: 3.2717 - accuracy: 0.1999 - val_loss: 3.7899 - val_accuracy: 0.1764\n",
      "Epoch 41/1000\n",
      "143/143 [==============================] - 2s 14ms/step - loss: 3.2382 - accuracy: 0.2176 - val_loss: 3.7855 - val_accuracy: 0.1744\n",
      "Epoch 42/1000\n",
      "143/143 [==============================] - 2s 15ms/step - loss: 3.2651 - accuracy: 0.2054 - val_loss: 3.8116 - val_accuracy: 0.1655\n",
      "Epoch 43/1000\n",
      "143/143 [==============================] - 2s 15ms/step - loss: 3.2348 - accuracy: 0.2152 - val_loss: 3.8103 - val_accuracy: 0.1734\n",
      "Epoch 44/1000\n",
      " 57/143 [==========>...................] - ETA: 1s - loss: 3.2108 - accuracy: 0.2014"
     ]
    }
   ],
   "source": [
    "gs.train(X_train, y_train, 0.1, 64, 1000)"
   ]
  },
  {
   "cell_type": "code",
   "execution_count": null,
   "id": "d220e86e-255a-4de6-94cb-9fb056bd7b28",
   "metadata": {},
   "outputs": [],
   "source": []
  }
 ],
 "metadata": {
  "kernelspec": {
   "display_name": "Python 3",
   "language": "python",
   "name": "python3"
  },
  "language_info": {
   "codemirror_mode": {
    "name": "ipython",
    "version": 3
   },
   "file_extension": ".py",
   "mimetype": "text/x-python",
   "name": "python",
   "nbconvert_exporter": "python",
   "pygments_lexer": "ipython3",
   "version": "3.8.10"
  }
 },
 "nbformat": 4,
 "nbformat_minor": 5
}
